{
 "cells": [
  {
   "cell_type": "code",
   "execution_count": 1,
   "metadata": {},
   "outputs": [],
   "source": [
    "import json\n",
    "import regex as re"
   ]
  },
  {
   "cell_type": "code",
   "execution_count": 135,
   "metadata": {},
   "outputs": [],
   "source": [
    "results = []\n",
    "query_terms = ['per', 'se']\n",
    "feedback = [1, 0, 1,0, 1, 0, 0, 0, 0, 0]\n",
    "\n",
    "with open('per_se.json') as user_file:\n",
    "    for line in user_file:\n",
    "        result = json.loads(line)\n",
    "        results.append(result)"
   ]
  },
  {
   "cell_type": "code",
   "execution_count": 136,
   "metadata": {},
   "outputs": [
    {
     "data": {
      "text/plain": [
       "[{'Title': 'Per Se | Thomas Keller Restaurant Group',\n",
       "  'Link': 'https://www.thomaskeller.com/perseny',\n",
       "  'Snippet': 'Per Se. Per Se Front Door. center. About. About; Restaurant · Team · Info & Directions · Gift Experiences · Reservations; Menus & Stories. Menus & Stories'},\n",
       " {'Title': 'Perse Definition & Meaning - Merriam-Webster',\n",
       "  'Link': 'https://www.merriam-webster.com/dictionary/perse',\n",
       "  'Snippet': 'The meaning of PERSE is of a dark grayish blue resembling indigo. How to use perse in a sentence. Did you know?'},\n",
       " {'Title': 'Per Se - New York, NY | Tock',\n",
       "  'Link': 'https://www.exploretock.com/perse',\n",
       "  'Snippet': \"Opened in 2004, Per Se is Thomas Keller's acclaimed interpretation of The French Laundry in the Deutsche Bank Center at Columbus Circle.\"},\n",
       " {'Title': 'Per Se (@perseny) • Instagram photos and videos',\n",
       "  'Link': 'https://www.instagram.com/perseny/',\n",
       "  'Snippet': '268K Followers, 197 Following, 929 Posts - See Instagram photos and videos from Per Se (@perseny)'},\n",
       " {'Title': 'Per Se – New York - a MICHELIN Guide Restaurant',\n",
       "  'Link': 'https://guide.michelin.com/us/en/new-york-state/new-york/restaurant/per-se',\n",
       "  'Snippet': \"Per Se – a Three Stars: Exceptional cuisine restaurant in the 2023 MICHELIN Guide USA. The MICHELIN inspectors' point of view, information on prices,\\xa0...\"},\n",
       " {'Title': 'per se - Wiktionary, the free dictionary',\n",
       "  'Link': 'https://en.wikipedia.org/wiki/wikt:per_se',\n",
       "  'Snippet': 'From Latin per sē (“by itself”), from per (“by, through”) and sē (“itself, himself, herself, themselves”).'},\n",
       " {'Title': 'PER SE | definition in the Cambridge English Dictionary',\n",
       "  'Link': 'https://dictionary.cambridge.org/us/dictionary/english/per-se',\n",
       "  'Snippet': 'PER SE meaning: 1. by or of itself: 2. by or of itself: 3. by or of itself: . Learn more.'},\n",
       " {'Title': 'James Perse Los Angeles',\n",
       "  'Link': 'https://www.jamesperse.com/',\n",
       "  'Snippet': 'James Perse. Women. Women; Apparel. Apparel Main Menu; New Arrivals · At Home Essentials · Classics · Dresses/Jumpsuits · Sweaters/Cashmere · T-shirts.'},\n",
       " {'Title': 'PER SE | English meaning - Cambridge Dictionary',\n",
       "  'Link': 'https://dictionary.cambridge.org/dictionary/english/per-se',\n",
       "  'Snippet': '7 days ago ... PER SE definition: 1. by or of itself: 2. by or of itself: 3. by or of itself: . Learn more.'},\n",
       " {'Title': 'per se | Wex | US Law | LII / Legal Information Institute',\n",
       "  'Link': 'https://www.law.cornell.edu/wex/per_se',\n",
       "  'Snippet': 'Primary tabs. Latin for “by itself,” in other words, inherently. For example, in tort law, a statutory violation is negligence per se. One of the elements a\\xa0...'}]"
      ]
     },
     "execution_count": 136,
     "metadata": {},
     "output_type": "execute_result"
    }
   ],
   "source": [
    "results"
   ]
  },
  {
   "cell_type": "code",
   "execution_count": null,
   "metadata": {},
   "outputs": [],
   "source": []
  },
  {
   "cell_type": "code",
   "execution_count": null,
   "metadata": {},
   "outputs": [],
   "source": []
  },
  {
   "cell_type": "code",
   "execution_count": 137,
   "metadata": {},
   "outputs": [],
   "source": [
    "pattern = re.compile(r'''\n",
    "’s|’t|’re|’ve|’m|’ll|’d| ?\\p{L}+| ?\\p{N}+|\\s+”\n",
    "''')\n",
    "# def get_words(string):\n",
    "\n",
    "    "
   ]
  },
  {
   "cell_type": "code",
   "execution_count": 138,
   "metadata": {},
   "outputs": [],
   "source": [
    "stop_words = set()\n",
    "with open('../stop_words.txt', 'r') as stop_words_file:\n",
    "    for line in stop_words_file:\n",
    "        stop_words.add(line.strip())"
   ]
  },
  {
   "cell_type": "code",
   "execution_count": 142,
   "metadata": {},
   "outputs": [],
   "source": [
    "import regex as re\n",
    "pattern = re.compile(r'''\n",
    "’s|’t|’re|’ve|’m|’ll|’d| ?\\p{L}+| ?\\p{N}+”\n",
    "''')\n",
    "\n",
    "def extract_words(result_list):\n",
    "    documents = []\n",
    "    vocab = set()\n",
    "    for result in result_list:\n",
    "        title = result.get('Title', '')\n",
    "        snippet = result.get('Summary', '')\n",
    "        title_words = re.findall(pattern, title.lower())\n",
    "        title_words = [word.strip() for word in title_words if (word.strip() not in stop_words) or (word.strip() in query_terms)]\n",
    "        snippet_words = re.findall(pattern, snippet.lower())\n",
    "        snippet_words = [word.strip() for word in snippet_words if (word.strip() not in stop_words) or (word.strip() in query_terms)]\n",
    "        vocab.update(title_words + snippet_words)\n",
    "        documents.append({'title': title_words, 'summary': snippet_words})\n",
    "    return documents, vocab"
   ]
  },
  {
   "cell_type": "code",
   "execution_count": 143,
   "metadata": {},
   "outputs": [],
   "source": [
    "documents, vocab = extract_words(results)"
   ]
  },
  {
   "cell_type": "code",
   "execution_count": 144,
   "metadata": {},
   "outputs": [
    {
     "data": {
      "text/plain": [
       "[{'title': ['per', 'se', 'thomas', 'keller', 'restaurant', 'group'],\n",
       "  'summary': []},\n",
       " {'title': ['perse', 'definition', 'meaning', 'merriam', 'webster'],\n",
       "  'summary': []},\n",
       " {'title': ['per', 'se', 'york', 'ny', 'tock'], 'summary': []},\n",
       " {'title': ['per', 'se', 'perseny', 'instagram', 'photos', 'videos'],\n",
       "  'summary': []},\n",
       " {'title': ['per', 'se', 'york', 'michelin', 'guide', 'restaurant'],\n",
       "  'summary': []},\n",
       " {'title': ['per', 'se', 'wiktionary', 'dictionary'], 'summary': []},\n",
       " {'title': ['per', 'se', 'definition', 'cambridge', 'english', 'dictionary'],\n",
       "  'summary': []},\n",
       " {'title': ['james', 'perse', 'los', 'angeles'], 'summary': []},\n",
       " {'title': ['per', 'se', 'english', 'meaning', 'cambridge', 'dictionary'],\n",
       "  'summary': []},\n",
       " {'title': ['per', 'se', 'wex', 'law', 'lii', 'legal', 'institute'],\n",
       "  'summary': []}]"
      ]
     },
     "execution_count": 144,
     "metadata": {},
     "output_type": "execute_result"
    }
   ],
   "source": [
    "documents"
   ]
  },
  {
   "cell_type": "code",
   "execution_count": 145,
   "metadata": {},
   "outputs": [],
   "source": [
    "query_terms = ['per', 'se']"
   ]
  },
  {
   "cell_type": "code",
   "execution_count": null,
   "metadata": {},
   "outputs": [],
   "source": []
  },
  {
   "cell_type": "code",
   "execution_count": 146,
   "metadata": {},
   "outputs": [],
   "source": [
    "relevant_docs = set()\n",
    "\n",
    "for doc in range(len(feedback)):\n",
    "    if feedback[doc] == 1: \n",
    "        relevant_docs.add(doc)"
   ]
  },
  {
   "cell_type": "code",
   "execution_count": 147,
   "metadata": {},
   "outputs": [
    {
     "data": {
      "text/plain": [
       "{0, 2, 4}"
      ]
     },
     "execution_count": 147,
     "metadata": {},
     "output_type": "execute_result"
    }
   ],
   "source": [
    "relevant_docs"
   ]
  },
  {
   "cell_type": "code",
   "execution_count": 148,
   "metadata": {},
   "outputs": [],
   "source": [
    "def is_query_term_in_window(words, index, query_terms, window_size):\n",
    "    for i in range(index - window_size, index+window_size+1):\n",
    "        if i < 0 or i>len(words) or i == index: \n",
    "            continue\n",
    "        if words[i] in query_terms: \n",
    "            return True\n",
    "    \n",
    "    return False"
   ]
  },
  {
   "cell_type": "code",
   "execution_count": null,
   "metadata": {},
   "outputs": [],
   "source": []
  },
  {
   "cell_type": "code",
   "execution_count": 149,
   "metadata": {},
   "outputs": [],
   "source": [
    "inverse_list = {word:{} for word in vocab}\n",
    "window_size = 2\n",
    "\n",
    "for doc_i, document in enumerate(documents):\n",
    "    doc_words = document['title'] + ['\\\\']*window_size+ document['summary']\n",
    "    \n",
    "    for word_i, word in enumerate(doc_words):\n",
    "        if word == '\\\\': \n",
    "            continue\n",
    "\n",
    "        word_dict = inverse_list[word]\n",
    "        if doc_i not in inverse_list[word]:\n",
    "            word_dict[doc_i] = {'frequency': 0, 'close_to_query': False}\n",
    "        \n",
    "        word_dict[doc_i]['frequency'] = word_dict[doc_i]['frequency']+1\n",
    "        word_dict[doc_i]['close_to_query'] = is_query_term_in_window(doc_words, word_i, query_terms, window_size)\n",
    "\n",
    "\n",
    "\n",
    "\n",
    "# word: {docs: {freq, close_to_query, }        "
   ]
  },
  {
   "cell_type": "code",
   "execution_count": 152,
   "metadata": {},
   "outputs": [
    {
     "data": {
      "text/plain": [
       "{0: {'frequency': 1, 'close_to_query': True}}"
      ]
     },
     "execution_count": 152,
     "metadata": {},
     "output_type": "execute_result"
    }
   ],
   "source": [
    "inverse_list['thomas']"
   ]
  },
  {
   "cell_type": "code",
   "execution_count": 153,
   "metadata": {},
   "outputs": [],
   "source": [
    "all_documents = set(range(1, 10+1))"
   ]
  },
  {
   "cell_type": "code",
   "execution_count": 154,
   "metadata": {},
   "outputs": [],
   "source": [
    "def gini(n_relevant_docs, n_irrelevant_docs):\n",
    "        eps = 1e-7\n",
    "        p_relevance = n_relevant_docs/(n_irrelevant_docs+n_relevant_docs+eps)\n",
    "        p_irrelevance = n_irrelevant_docs/(n_irrelevant_docs+n_relevant_docs+eps)\n",
    "        return 1 - p_irrelevance**2 - p_relevance**2"
   ]
  },
  {
   "cell_type": "code",
   "execution_count": 155,
   "metadata": {},
   "outputs": [
    {
     "data": {
      "text/plain": [
       "1.1111111142270147e-08"
      ]
     },
     "execution_count": 155,
     "metadata": {},
     "output_type": "execute_result"
    }
   ],
   "source": [
    "gini(18, 0)"
   ]
  },
  {
   "cell_type": "code",
   "execution_count": 156,
   "metadata": {},
   "outputs": [
    {
     "ename": "KeyError",
     "evalue": "'messi'",
     "output_type": "error",
     "traceback": [
      "\u001b[0;31m---------------------------------------------------------------------------\u001b[0m",
      "\u001b[0;31mKeyError\u001b[0m                                  Traceback (most recent call last)",
      "Cell \u001b[0;32mIn[156], line 3\u001b[0m\n\u001b[1;32m      1\u001b[0m word \u001b[38;5;241m=\u001b[39m \u001b[38;5;124m'\u001b[39m\u001b[38;5;124mmessi\u001b[39m\u001b[38;5;124m'\u001b[39m\n\u001b[0;32m----> 3\u001b[0m docs_with_word \u001b[38;5;241m=\u001b[39m \u001b[38;5;28mlist\u001b[39m(\u001b[43minverse_list\u001b[49m\u001b[43m[\u001b[49m\u001b[43mword\u001b[49m\u001b[43m]\u001b[49m)\n\u001b[1;32m      5\u001b[0m all_documents \u001b[38;5;241m=\u001b[39m \u001b[38;5;28mset\u001b[39m(\u001b[38;5;28mrange\u001b[39m(\u001b[38;5;241m0\u001b[39m, \u001b[38;5;28mlen\u001b[39m(feedback)))\n\u001b[1;32m      6\u001b[0m relevant_docs \u001b[38;5;241m=\u001b[39m \u001b[38;5;28mset\u001b[39m([i \u001b[38;5;28;01mfor\u001b[39;00m i \u001b[38;5;129;01min\u001b[39;00m \u001b[38;5;28mrange\u001b[39m(\u001b[38;5;28mlen\u001b[39m(feedback)) \u001b[38;5;28;01mif\u001b[39;00m feedback[i] \u001b[38;5;241m==\u001b[39m \u001b[38;5;241m1\u001b[39m])\n",
      "\u001b[0;31mKeyError\u001b[0m: 'messi'"
     ]
    }
   ],
   "source": [
    "# word = 'messi'\n",
    "\n",
    "# docs_with_word = list(inverse_list[word])\n",
    "\n",
    "# all_documents = set(range(0, len(feedback)))\n",
    "# relevant_docs = set([i for i in range(len(feedback)) if feedback[i] == 1])\n",
    "\n",
    "# docs_with_word = set(inverse_list[word].keys())\n",
    "# docs_without_word = all_documents - docs_with_word\n",
    "\n",
    "# n_relevant_with_word = len(docs_with_word.intersection(relevant_docs))\n",
    "# n_irrelevant_with_word = len(docs_with_word)- n_relevant_with_word\n",
    "\n",
    "# n_relevant_without_word = len(docs_without_word.intersection(relevant_docs))\n",
    "# n_irrelevant_without_word = len(docs_without_word) - n_relevant_without_word\n",
    "\n",
    "# w1 = len(docs_with_word)/len(all_documents)\n",
    "# w2 = 1.0 - w1\n",
    "\n",
    "# base_gini = gini(len(relevant_docs), len(all_documents - relevant_docs))\n",
    "# word_gini = w1*gini(n_relevant_with_word, n_irrelevant_with_word) + w2*gini(n_relevant_without_word, n_irrelevant_without_word)\n",
    "\n",
    "# gini_gain = base_gini-word_gini"
   ]
  },
  {
   "cell_type": "code",
   "execution_count": 157,
   "metadata": {},
   "outputs": [],
   "source": [
    "def gini_gain(word, inverse_list, feedback):\n",
    "    docs_with_word = list(inverse_list[word])\n",
    "\n",
    "    all_documents = set(range(0, len(feedback)))\n",
    "    relevant_docs = set([i for i in range(len(feedback)) if feedback[i] == 1])\n",
    "\n",
    "    docs_with_word = set(inverse_list[word].keys())\n",
    "    docs_without_word = all_documents - docs_with_word\n",
    "\n",
    "    n_relevant_with_word = len(docs_with_word.intersection(relevant_docs))\n",
    "    n_irrelevant_with_word = len(docs_with_word)- n_relevant_with_word\n",
    "\n",
    "    n_relevant_without_word = len(docs_without_word.intersection(relevant_docs))\n",
    "    n_irrelevant_without_word = len(docs_without_word) - n_relevant_without_word\n",
    "\n",
    "    w1 = len(docs_with_word)/len(all_documents)\n",
    "    w2 = 1.0 - w1\n",
    "\n",
    "    base_gini = gini(len(relevant_docs), len(all_documents - relevant_docs))\n",
    "    word_gini = w1*gini(n_relevant_with_word, n_irrelevant_with_word) \\\n",
    "                + w2*gini(n_relevant_without_word, n_irrelevant_without_word)\n",
    "\n",
    "    gini_gain = base_gini-word_gini\n",
    "    return gini_gain"
   ]
  },
  {
   "cell_type": "code",
   "execution_count": 158,
   "metadata": {},
   "outputs": [],
   "source": [
    "percentage_of_relevant_docs = {}\n",
    "\n",
    "for word, docs in inverse_list.items():\n",
    "    number_of_relevant_docs = 0\n",
    "    for doc in docs:\n",
    "        number_of_relevant_docs += feedback[doc - 1]\n",
    "    percentage_of_relevant_docs[word] = number_of_relevant_docs/len(docs)"
   ]
  },
  {
   "cell_type": "code",
   "execution_count": 159,
   "metadata": {},
   "outputs": [],
   "source": []
  },
  {
   "cell_type": "code",
   "execution_count": 160,
   "metadata": {},
   "outputs": [
    {
     "data": {
      "text/plain": [
       "['group',\n",
       " 'keller',\n",
       " 'guide',\n",
       " 'thomas',\n",
       " 'ny',\n",
       " 'michelin',\n",
       " 'restaurant',\n",
       " 'tock',\n",
       " 'york']"
      ]
     },
     "execution_count": 160,
     "metadata": {},
     "output_type": "execute_result"
    }
   ],
   "source": [
    "words_to_search"
   ]
  },
  {
   "cell_type": "code",
   "execution_count": 161,
   "metadata": {},
   "outputs": [],
   "source": [
    "ranking = {}\n",
    "\n",
    "for word in words_to_search:\n",
    "    ranking[word] = gini_gain(word, inverse_list, feedback)"
   ]
  },
  {
   "cell_type": "code",
   "execution_count": 162,
   "metadata": {},
   "outputs": [
    {
     "data": {
      "text/plain": [
       "{'group': 0.10888886740247217,\n",
       " 'keller': 0.10888886740247217,\n",
       " 'guide': 0.10888886740247217,\n",
       " 'thomas': 0.10888886740247217,\n",
       " 'ny': 0.10888886740247217,\n",
       " 'michelin': 0.10888886740247217,\n",
       " 'restaurant': 0.2449999759750016,\n",
       " 'tock': 0.10888886740247217,\n",
       " 'york': 0.2449999759750016}"
      ]
     },
     "execution_count": 162,
     "metadata": {},
     "output_type": "execute_result"
    }
   ],
   "source": [
    "ranking"
   ]
  },
  {
   "cell_type": "code",
   "execution_count": 163,
   "metadata": {},
   "outputs": [],
   "source": [
    "from math import log"
   ]
  },
  {
   "cell_type": "code",
   "execution_count": 164,
   "metadata": {},
   "outputs": [],
   "source": [
    "for word in words_to_search:\n",
    "    word_docs = set(inverse_list[word].keys())\n",
    "    relevant_word_docs = word_docs.intersection(relevant_docs)\n",
    "    total_relevant_freq = 0\n",
    "    for doc in relevant_word_docs:\n",
    "        total_relevant_freq += inverse_list[word][doc]['frequency']\n",
    "    \n",
    "\n",
    "    ranking[word]+= log(1.0 + total_relevant_freq)\n"
   ]
  },
  {
   "cell_type": "code",
   "execution_count": 165,
   "metadata": {},
   "outputs": [],
   "source": [
    "for word in words_to_search:\n",
    "    word_docs = set(inverse_list[word].keys())\n",
    "    relevant_word_docs = word_docs.intersection(relevant_docs)\n",
    "    total_close_to_query_occurences = 0\n",
    "    for doc in relevant_word_docs:\n",
    "        if inverse_list[word][doc]['close_to_query']:\n",
    "            total_close_to_query_occurences+=1\n",
    "    \n",
    "    ranking[word] += log(1.0+total_close_to_query_occurences)"
   ]
  },
  {
   "cell_type": "code",
   "execution_count": 166,
   "metadata": {},
   "outputs": [
    {
     "data": {
      "text/plain": [
       "{'group': 0.8020360479624175,\n",
       " 'keller': 1.4951832285223627,\n",
       " 'guide': 0.8020360479624175,\n",
       " 'thomas': 1.4951832285223627,\n",
       " 'ny': 1.4951832285223627,\n",
       " 'michelin': 1.4951832285223627,\n",
       " 'restaurant': 1.3436122646431115,\n",
       " 'tock': 0.8020360479624175,\n",
       " 'york': 2.4422245533112212}"
      ]
     },
     "execution_count": 166,
     "metadata": {},
     "output_type": "execute_result"
    }
   ],
   "source": [
    "ranking"
   ]
  },
  {
   "cell_type": "code",
   "execution_count": 18,
   "metadata": {},
   "outputs": [],
   "source": [
    "res = sorted(words_to_search, key= lambda x: ranking[x])"
   ]
  },
  {
   "cell_type": "code",
   "execution_count": 19,
   "metadata": {},
   "outputs": [
    {
     "data": {
      "text/plain": [
       "{'wikipedia': -0.05,\n",
       " 'messi': -0.05,\n",
       " 'french': 0.0,\n",
       " 'paris': 0.0,\n",
       " 'germain': 0.0,\n",
       " 'signed': 0.0,\n",
       " 'club': 0.0,\n",
       " 'captaincy': 0.0,\n",
       " 'assumed': 0.0,\n",
       " 'record': 0.0,\n",
       " 'sixth': 0.0,\n",
       " 'contract': 0.0,\n",
       " 'saint': 0.0,\n",
       " 'barcelona': 0.0,\n",
       " 'ballon': 0.0}"
      ]
     },
     "execution_count": 19,
     "metadata": {},
     "output_type": "execute_result"
    }
   ],
   "source": [
    "{word: ranking[word] for word in res}"
   ]
  },
  {
   "cell_type": "code",
   "execution_count": 20,
   "metadata": {},
   "outputs": [
    {
     "data": {
      "text/plain": [
       "['wikipedia',\n",
       " 'messi',\n",
       " 'french',\n",
       " 'paris',\n",
       " 'germain',\n",
       " 'signed',\n",
       " 'club',\n",
       " 'captaincy',\n",
       " 'assumed',\n",
       " 'record',\n",
       " 'sixth',\n",
       " 'contract',\n",
       " 'saint',\n",
       " 'barcelona',\n",
       " 'ballon']"
      ]
     },
     "execution_count": 20,
     "metadata": {},
     "output_type": "execute_result"
    }
   ],
   "source": [
    "res"
   ]
  },
  {
   "cell_type": "code",
   "execution_count": null,
   "metadata": {},
   "outputs": [],
   "source": []
  }
 ],
 "metadata": {
  "kernelspec": {
   "display_name": "adproject1",
   "language": "python",
   "name": "python3"
  },
  "language_info": {
   "codemirror_mode": {
    "name": "ipython",
    "version": 3
   },
   "file_extension": ".py",
   "mimetype": "text/x-python",
   "name": "python",
   "nbconvert_exporter": "python",
   "pygments_lexer": "ipython3",
   "version": "3.12.0"
  }
 },
 "nbformat": 4,
 "nbformat_minor": 2
}
