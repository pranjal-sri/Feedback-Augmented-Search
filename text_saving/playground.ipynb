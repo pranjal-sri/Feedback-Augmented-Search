{
 "cells": [
  {
   "cell_type": "code",
   "execution_count": 1,
   "metadata": {},
   "outputs": [],
   "source": [
    "import json\n",
    "import regex as re"
   ]
  },
  {
   "cell_type": "code",
   "execution_count": 2,
   "metadata": {},
   "outputs": [],
   "source": [
    "results = []\n",
    "with open('lionel.json') as user_file:\n",
    "    for line in user_file:\n",
    "        results = json.loads(line)\n"
   ]
  },
  {
   "cell_type": "code",
   "execution_count": 3,
   "metadata": {},
   "outputs": [
    {
     "data": {
      "text/plain": [
       "[{'URL': 'http://www.lionel.com/',\n",
       "  'Title': \"Lionel Trains: World's Best Model Trains & Railroad\",\n",
       "  'Summary': 'LionChief Plus. Lionel Legacy. American Flyer. VisionLine.'},\n",
       " {'URL': 'https://www.lionelstore.com/',\n",
       "  'Title': 'Lionel Model Trains - Electric Trains & more at the Lionel Train Store',\n",
       "  'Summary': 'Lionel Model Trains - Electric Trains & more at the Lionel Train Store.'},\n",
       " {'URL': 'http://www.lionel.com/catalogs',\n",
       "  'Title': 'Train Gifts & Collectibles: The Lionel Trains Catalog',\n",
       "  'Summary': \"Lionel's catalogs are the ultimate destination for model train collectors. Browse the history of Lionel Trains catalogs, with beautiful high-res images.\"},\n",
       " {'URL': 'https://www.lionelracing.com/',\n",
       "  'Title': 'Lionel Racing NASCAR Store: Diecast, Collectibles & Apparel',\n",
       "  'Summary': 'Dale Earnhardt, Jr. ... Martin Truex, Jr. ... Ricky Stenhouse, Jr. Ross Chastain · Ryan Blaney · Ryan Ellis · Ryan Preece · Ryan Truex\\xa0...'},\n",
       " {'URL': 'https://lionelrichie.com/',\n",
       "  'Title': 'Lionel Richie: Latest News and Tour Dates - All The Hits',\n",
       "  'Summary': 'Tour dates. April 14, 2024, Thackerville, OK, Lucas Oil Live, Tickets. May 23, 2024, Knoxville, TN, Thompson-Boling Arena at Food City Center, Tickets · VIP.'},\n",
       " {'URL': 'https://www.instagram.com/lsanderstri/?hl=en',\n",
       "  'Title': 'Lionel Sanders (@lsanderstri) • Instagram photos and videos',\n",
       "  'Summary': '264K Followers, 672 Following, 891 Posts - See Instagram photos and videos from Lionel Sanders (@lsanderstri)'},\n",
       " {'URL': 'https://www.facebook.com/LionelRichie/',\n",
       "  'Title': 'Lionel Richie',\n",
       "  'Summary': 'Lionel Richie. 5067807 likes · 14353 talking about this. ✨ @americanidol | Follow my design journey: @lionelrichiehome | Fragrance “Hello by Lionel...'},\n",
       " {'URL': 'https://www.instagram.com/lionelrichie/',\n",
       "  'Title': 'Lionel Richie (@lionelrichie) • Instagram photos and videos',\n",
       "  'Summary': '2M Followers, 114 Following, 2570 Posts - See Instagram photos and videos from Lionel Richie (@lionelrichie)'},\n",
       " {'URL': 'https://en.wikipedia.org/wiki/Lionel_Messi',\n",
       "  'Title': 'Lionel Messi - Wikipedia',\n",
       "  'Summary': \"Messi assumed captaincy of Barcelona in 2018, and won a record sixth Ballon d'Or in 2019. Out of contract, he signed for French club Paris Saint-Germain in\\xa0...\"},\n",
       " {'URL': 'https://www.youtube.com/@Lionel.Sanders',\n",
       "  'Title': 'Lionel Sanders - YouTube',\n",
       "  'Summary': 'Share your videos with friends, family, and the world.'}]"
      ]
     },
     "execution_count": 3,
     "metadata": {},
     "output_type": "execute_result"
    }
   ],
   "source": [
    "results"
   ]
  },
  {
   "cell_type": "code",
   "execution_count": 4,
   "metadata": {},
   "outputs": [],
   "source": [
    "pattern = re.compile(r'''\n",
    "’s|’t|’re|’ve|’m|’ll|’d| ?\\p{L}+| ?\\p{N}+|\\s+”\n",
    "''')\n",
    "# def get_words(string):\n",
    "\n",
    "    "
   ]
  },
  {
   "cell_type": "code",
   "execution_count": 5,
   "metadata": {},
   "outputs": [],
   "source": [
    "stop_words = set()\n",
    "with open('../stop_words.txt', 'r') as stop_words_file:\n",
    "    for line in stop_words_file:\n",
    "        stop_words.add(line.strip())"
   ]
  },
  {
   "cell_type": "code",
   "execution_count": 6,
   "metadata": {},
   "outputs": [],
   "source": [
    "import regex as re\n",
    "pattern = re.compile(r'''\n",
    "’s|’t|’re|’ve|’m|’ll|’d| ?\\p{L}+| ?\\p{N}+”\n",
    "''')\n",
    "\n",
    "def extract_words(result_list):\n",
    "    word_lists = []\n",
    "    vocab = set()\n",
    "    for result in result_list:\n",
    "        title = result.get('Title', '')\n",
    "        snippet = result.get('Summary', '')\n",
    "        title_words = re.findall(pattern, title.lower())\n",
    "        title_words = [word.strip() for word in title_words if word.strip() not in stop_words]\n",
    "        snippet_words = re.findall(pattern, snippet.lower())\n",
    "        snippet_words = [word.strip() for word in snippet_words if word.strip() not in stop_words]\n",
    "        vocab.update(title_words + snippet_words)\n",
    "        word_lists.append({'title': title_words, 'summary': snippet_words})\n",
    "    return word_lists, vocab"
   ]
  },
  {
   "cell_type": "code",
   "execution_count": 7,
   "metadata": {},
   "outputs": [],
   "source": [
    "wl, vocab = extract_words(results)"
   ]
  },
  {
   "cell_type": "code",
   "execution_count": 8,
   "metadata": {},
   "outputs": [
    {
     "data": {
      "text/plain": [
       "{'title': ['lionel', 'trains', 'world', 'best', 'model', 'trains', 'railroad'],\n",
       " 'summary': ['lionchief',\n",
       "  'plus',\n",
       "  'lionel',\n",
       "  'legacy',\n",
       "  'american',\n",
       "  'flyer',\n",
       "  'visionline']}"
      ]
     },
     "execution_count": 8,
     "metadata": {},
     "output_type": "execute_result"
    }
   ],
   "source": [
    "wl[0]"
   ]
  },
  {
   "cell_type": "code",
   "execution_count": 9,
   "metadata": {},
   "outputs": [],
   "source": [
    "feedback = [0, 0, 0, 0, 0, 0, 0, 0, 1, 0]"
   ]
  },
  {
   "cell_type": "code",
   "execution_count": 10,
   "metadata": {},
   "outputs": [],
   "source": [
    "inverse_list = {word: set() for word in vocab}\n",
    "\n",
    "for i, document in enumerate(wl):\n",
    "    for word in document['title'] + document['summary']:\n",
    "        inverse_list[word].add(i+1)\n",
    "        "
   ]
  },
  {
   "cell_type": "code",
   "execution_count": 11,
   "metadata": {},
   "outputs": [],
   "source": [
    "all_documents = set(range(1, 10+1))"
   ]
  },
  {
   "cell_type": "code",
   "execution_count": 12,
   "metadata": {},
   "outputs": [],
   "source": [
    "def gini_impurity(word, docs_with_word, docs_without_word, feedback):\n",
    "  relevant_docs_with_word = 0\n",
    "  relevant_docs_without_word = 0\n",
    "  \n",
    "  # import pdb; pdb.set_trace()\n",
    "  for doc in docs_with_word:\n",
    "    relevant_docs_with_word += feedback[doc]\n",
    "  for doc in docs_without_word:\n",
    "    relevant_docs_without_word += feedback[doc]\n",
    "\n",
    "  prob_relevant_with_word = relevant_docs_with_word/len(docs_with_word)\n",
    "  prob_irrelevant_with_word = 1 - prob_relevant_with_word\n",
    "  \n",
    "  prob_relevant_without_word = relevant_docs_without_word/len(docs_without_word)\n",
    "  prob_irrelevant_without_word = 1 - prob_relevant_without_word\n",
    "  # import pdb; pdb.set_trace()\n",
    "  impurity_with_word = 1 - (prob_relevant_with_word**2 + prob_irrelevant_with_word**2)\n",
    "  impurity_without_word = 1 - (prob_relevant_without_word**2 + prob_irrelevant_without_word**2)\n",
    "\n",
    "  return impurity_with_word, impurity_without_word"
   ]
  },
  {
   "cell_type": "code",
   "execution_count": 13,
   "metadata": {},
   "outputs": [],
   "source": [
    "percentage_of_relevant_docs = {}\n",
    "\n",
    "for word, docs in inverse_list.items():\n",
    "    number_of_relevant_docs = 0\n",
    "    for doc in docs:\n",
    "        number_of_relevant_docs += feedback[doc - 1]\n",
    "    percentage_of_relevant_docs[word] = number_of_relevant_docs/len(docs)"
   ]
  },
  {
   "cell_type": "code",
   "execution_count": 14,
   "metadata": {},
   "outputs": [],
   "source": [
    "k = 0.6\n",
    "\n",
    "words_to_search = [word for word in vocab if percentage_of_relevant_docs[word]>k]"
   ]
  },
  {
   "cell_type": "code",
   "execution_count": 15,
   "metadata": {},
   "outputs": [
    {
     "data": {
      "text/plain": [
       "15"
      ]
     },
     "execution_count": 15,
     "metadata": {},
     "output_type": "execute_result"
    }
   ],
   "source": [
    "len(words_to_search)"
   ]
  },
  {
   "cell_type": "code",
   "execution_count": 16,
   "metadata": {},
   "outputs": [],
   "source": [
    "ranking = {}\n",
    "\n",
    "for word in words_to_search:\n",
    "    gini = gini_impurity(word, inverse_list[word], all_documents - inverse_list[word], feedback = {k+1:f for k, f in enumerate(feedback)})\n",
    "    w1 = len(inverse_list[word])/len(all_documents)\n",
    "    w2 = 1.0 - w1\n",
    "    ranking[word] = ( w1*gini[0] + w2*gini[1])"
   ]
  },
  {
   "cell_type": "code",
   "execution_count": 17,
   "metadata": {},
   "outputs": [],
   "source": [
    "\n",
    "for doc in wl:\n",
    "    for word in doc['title']:\n",
    "        if word in words_to_search:\n",
    "            ranking[word] = ranking[word]*0.95\n"
   ]
  },
  {
   "cell_type": "code",
   "execution_count": 18,
   "metadata": {},
   "outputs": [],
   "source": [
    "res = sorted(words_to_search, key= lambda x: ranking[x])"
   ]
  },
  {
   "cell_type": "code",
   "execution_count": 19,
   "metadata": {},
   "outputs": [
    {
     "data": {
      "text/plain": [
       "{'captaincy': 0.0,\n",
       " 'signed': 0.0,\n",
       " 'messi': 0.0,\n",
       " 'french': 0.0,\n",
       " 'wikipedia': 0.0,\n",
       " 'assumed': 0.0,\n",
       " 'germain': 0.0,\n",
       " 'barcelona': 0.0,\n",
       " 'club': 0.0,\n",
       " 'paris': 0.0,\n",
       " 'sixth': 0.0,\n",
       " 'ballon': 0.0,\n",
       " 'saint': 0.0,\n",
       " 'record': 0.0,\n",
       " 'contract': 0.0}"
      ]
     },
     "execution_count": 19,
     "metadata": {},
     "output_type": "execute_result"
    }
   ],
   "source": [
    "{word: ranking[word] for word in res}"
   ]
  },
  {
   "cell_type": "code",
   "execution_count": 20,
   "metadata": {},
   "outputs": [
    {
     "data": {
      "text/plain": [
       "['captaincy',\n",
       " 'signed',\n",
       " 'messi',\n",
       " 'french',\n",
       " 'wikipedia',\n",
       " 'assumed',\n",
       " 'germain',\n",
       " 'barcelona',\n",
       " 'club',\n",
       " 'paris',\n",
       " 'sixth',\n",
       " 'ballon',\n",
       " 'saint',\n",
       " 'record',\n",
       " 'contract']"
      ]
     },
     "execution_count": 20,
     "metadata": {},
     "output_type": "execute_result"
    }
   ],
   "source": [
    "res"
   ]
  },
  {
   "cell_type": "code",
   "execution_count": null,
   "metadata": {},
   "outputs": [],
   "source": []
  }
 ],
 "metadata": {
  "kernelspec": {
   "display_name": "adproject1",
   "language": "python",
   "name": "python3"
  },
  "language_info": {
   "codemirror_mode": {
    "name": "ipython",
    "version": 3
   },
   "file_extension": ".py",
   "mimetype": "text/x-python",
   "name": "python",
   "nbconvert_exporter": "python",
   "pygments_lexer": "ipython3",
   "version": "3.12.1"
  }
 },
 "nbformat": 4,
 "nbformat_minor": 2
}
